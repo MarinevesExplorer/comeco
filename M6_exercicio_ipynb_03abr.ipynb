{
  "nbformat": 4,
  "nbformat_minor": 0,
  "metadata": {
    "colab": {
      "provenance": []
    },
    "kernelspec": {
      "name": "python3",
      "display_name": "Python 3"
    },
    "language_info": {
      "name": "python"
    }
  },
  "cells": [
    {
      "cell_type": "markdown",
      "source": [
        "<img src=\"https://raw.githubusercontent.com/andre-marcos-perez/ebac-course-utils/main/media/logo/newebac_logo_black_half.png\" alt=\"ebac-logo\">\n",
        "\n",
        "---"
      ],
      "metadata": {
        "id": "oKJ63sv03mNF"
      }
    },
    {
      "cell_type": "markdown",
      "source": [
        "# **Módulo 06** | Python: Programação Orientada a Objetos"
      ],
      "metadata": {
        "id": "L0RLJfqczT7X"
      }
    },
    {
      "cell_type": "markdown",
      "source": [
        "# **Tópicos/Exercícios**\n",
        "\n",
        "<ol type=\"1\">\n",
        "  <li>Um pouco de teoria;</li>\n",
        "  <li>Classes;</li>\n",
        "  <li>Objetos;</li>\n",
        "  <li>Herança.</li>\n",
        "</ol>"
      ],
      "metadata": {
        "id": "qHPXiq6IzXjG"
      }
    },
    {
      "cell_type": "markdown",
      "metadata": {
        "id": "syVczIAwGO3A"
      },
      "source": [
        "## 0\\. Preparação do ambiente"
      ]
    },
    {
      "cell_type": "markdown",
      "metadata": {
        "id": "2X3TrxdzGO3C"
      },
      "source": [
        "Neste exercício vamos trabalhar com os arquivos de csv e texto definidos abaixo. Execute cada uma das células de código para escrever os arquivos na sua máquina virtual."
      ]
    },
    {
      "cell_type": "markdown",
      "metadata": {
        "id": "3cH67RKZzc9B"
      },
      "source": [
        "* **carros.csv**: arquivo csv com informações sobre carros (venda, manutenção, portas, etc.)."
      ]
    },
    {
      "cell_type": "code",
      "execution_count": 83,
      "metadata": {
        "id": "Ohao03egzc9B",
        "colab": {
          "base_uri": "https://localhost:8080/"
        },
        "outputId": "9f79344f-4e95-49d7-c2d6-26a70e07c01b"
      },
      "outputs": [
        {
          "output_type": "stream",
          "name": "stdout",
          "text": [
            "Overwriting carros.csv\n"
          ]
        }
      ],
      "source": [
        "%%writefile carros.csv\n",
        "id,valor_venda,valor_manutencao,portas,pessoas,porta_malas\n",
        "1,vhigh,med,2,2,small\n",
        "2,med,vhigh,2,2,small\n",
        "3,low,vhigh,2,2,small\n",
        "4,low,high,2,2,small\n",
        "5,low,high,2,2,small\n",
        "6,low,high,4,4,big\n",
        "7,low,high,4,4,big\n",
        "8,low,med,2,2,small\n",
        "9,low,med,2,2,small\n",
        "10,low,med,2,2,small\n",
        "11,low,med,4,4,big\n",
        "12,low,low,2,2,small\n",
        "13,low,low,4,4,small\n",
        "14,low,low,4,4,med"
      ]
    },
    {
      "cell_type": "markdown",
      "metadata": {
        "id": "eaKZoLRVzc9B"
      },
      "source": [
        "* **musica.txt**: arquivo texto com a letra da música Roda Viva do Chico Buarque."
      ]
    },
    {
      "cell_type": "code",
      "execution_count": null,
      "metadata": {
        "id": "-rKbRSH9zc9B",
        "colab": {
          "base_uri": "https://localhost:8080/"
        },
        "outputId": "3ef056a6-3c11-4829-8e5a-3ceb7f7d860e"
      },
      "outputs": [
        {
          "output_type": "stream",
          "name": "stdout",
          "text": [
            "Writing musica.txt\n"
          ]
        }
      ],
      "source": [
        "%%writefile musica.txt\n",
        "Roda Viva\n",
        "Chico Buarque\n",
        "\n",
        "Tem dias que a gente se sente\n",
        "Como quem partiu ou morreu\n",
        "A gente estancou de repente\n",
        "Ou foi o mundo então que cresceu\n",
        "A gente quer ter voz ativa\n",
        "No nosso destino mandar\n",
        "Mas eis que chega a roda viva\n",
        "E carrega o destino pra lá\n",
        "\n",
        "Roda mundo, roda-gigante\n",
        "Roda moinho, roda pião\n",
        "\n",
        "O tempo rodou num instante\n",
        "Nas voltas do meu coração\n",
        "A gente vai contra a corrente\n",
        "Até não poder resistir\n",
        "Na volta do barco é que sente\n",
        "O quanto deixou de cumprir\n",
        "Faz tempo que a gente cultiva\n",
        "A mais linda roseira que há\n",
        "Mas eis que chega a roda viva\n",
        "E carrega a roseira pra lá\n",
        "\n",
        "Roda mundo, roda-gigante\n",
        "Roda moinho, roda pião"
      ]
    },
    {
      "cell_type": "markdown",
      "metadata": {
        "id": "hpqV4OSWzc9C"
      },
      "source": [
        "## 1\\. Classe para ler arquivos de texto"
      ]
    },
    {
      "cell_type": "markdown",
      "metadata": {
        "id": "HQrKGtoMGjf6"
      },
      "source": [
        "Crie a classe `ArquivoTexto`. Ela deve conter os seguintes atributos:\n",
        "\n",
        "*   `self.arquivo`: Atributo do tipo `str` com o nome do arquivo;\n",
        "*   `self.conteudo`: Atributo do tipo `list` onde cada elemento é uma linha do arquivo;\n",
        "\n",
        "A classe também deve conter o seguinte método:\n",
        "\n",
        "*   `self.extrair_conteudo`: Método que realiza a leitura do arquivo e retorna o conteúdo.\n",
        "\n",
        "*   `self.extrair_linha`: Método que recebe como parâmetro o número da linha e retorna a linha do conteúdo.\n"
      ]
    },
    {
      "cell_type": "code",
      "source": [
        "\n",
        "class ArquivoTexto(object):\n",
        "    def __init__(self, arquivo: str):\n",
        "      self.arquivo = arquivo\n",
        "      self.conteudo = []\n",
        "\n",
        "    def extrair_conteudo(self):\n",
        "        try:\n",
        "            with open(self.arquivo, 'r') as arquivo:\n",
        "                self.conteudo = arquivo.readlines()\n",
        "\n",
        "            return self.conteudo\n",
        "        except FileNotFoundError:\n",
        "            print(f'O arquivo {self.arquivo} não foi encontrado.')\n",
        "            return None\n",
        "\n",
        "def extrair_linha (self, numero_linha: int):\n",
        "        if 1 <= numero_linha <= len(self.conteudo):\n",
        "            return self.conteudo[numero_linha - 1]\n",
        "        else:\n",
        "            return None\n",
        "\n",
        "\n",
        "\n"
      ],
      "metadata": {
        "id": "VGj9HefvIf4L"
      },
      "execution_count": null,
      "outputs": []
    },
    {
      "cell_type": "markdown",
      "metadata": {
        "id": "866OgsyHHw2M"
      },
      "source": [
        "Utilize o código abaixo para testar sua classe."
      ]
    },
    {
      "cell_type": "code",
      "source": [
        "ArquivoTexto= ArquivoTexto (arquivo ='./musica.txt')"
      ],
      "metadata": {
        "id": "LVG4fXdPZuPE"
      },
      "execution_count": null,
      "outputs": []
    },
    {
      "cell_type": "code",
      "source": [
        "class ArquivoTexto(object):\n",
        "    def __init__(self, arquivo: str):\n",
        "      self.arquivo = arquivo\n",
        "      self.conteudo = []\n",
        "\n",
        "    def extrair_conteudo(self):\n",
        "        conteudo = None\n",
        "        try:\n",
        "            with open(self.arquivo, 'r') as arquivo:\n",
        "                self.conteudo = arquivo.readlines()\n",
        "\n",
        "            return self.conteudo\n",
        "        except FileNotFoundError:\n",
        "            print(f'O arquivo {self.arquivo} não foi encontrado.')\n",
        "            return None\n",
        "\n",
        "    def extrair_linha (self, numero_linha: int):\n",
        "        if 1 <= numero_linha <= len(self.conteudo):\n",
        "            return self.conteudo[numero_linha - 1]\n",
        "        else:\n",
        "            return None\n",
        "\n",
        "\n",
        "\n"
      ],
      "metadata": {
        "id": "eDM1iuCa4FT0"
      },
      "execution_count": null,
      "outputs": []
    },
    {
      "cell_type": "markdown",
      "metadata": {
        "id": "AW0UIY6Yzc9C"
      },
      "source": [
        "---"
      ]
    },
    {
      "cell_type": "code",
      "source": [
        "arquivo = ArquivoTexto(arquivo='musica.txt')\n",
        "conteudo_arquivo = arquivo.extrair_conteudo()\n",
        "\n",
        "if conteudo_arquivo:\n",
        "    linha_1 = arquivo.extrair_linha(1)\n",
        "    print(linha_1)\n",
        "else:\n",
        "    print(\"Falha ao extrair o conteúdo do arquivo.\")"
      ],
      "metadata": {
        "colab": {
          "base_uri": "https://localhost:8080/"
        },
        "id": "f2LuLpiLQU_d",
        "outputId": "a4476845-045a-4cae-ccf4-8252e0e18d57"
      },
      "execution_count": null,
      "outputs": [
        {
          "output_type": "stream",
          "name": "stdout",
          "text": [
            "Roda Viva\n",
            "\n"
          ]
        }
      ]
    },
    {
      "cell_type": "code",
      "source": [
        "arquivo = ArquivoTexto(arquivo='musica.txt')\n",
        "conteudo_arquivo = arquivo.extrair_conteudo()\n",
        "\n",
        "if conteudo_arquivo:\n",
        "    linha_10 = arquivo.extrair_linha(10)\n",
        "    print(linha_10)\n",
        "else:\n",
        "    print(\"Falha ao extrair o conteúdo do arquivo.\")"
      ],
      "metadata": {
        "colab": {
          "base_uri": "https://localhost:8080/"
        },
        "id": "yKWlmkwNdb7m",
        "outputId": "a64c040f-669f-4bb4-9953-c7375684abe8"
      },
      "execution_count": null,
      "outputs": [
        {
          "output_type": "stream",
          "name": "stdout",
          "text": [
            "Mas eis que chega a roda viva\n",
            "\n"
          ]
        }
      ]
    },
    {
      "cell_type": "markdown",
      "metadata": {
        "id": "aQ8euzThIlLl"
      },
      "source": [
        "## 2\\. Classe para ler arquivos de csv"
      ]
    },
    {
      "cell_type": "markdown",
      "metadata": {
        "id": "EMWhvKAWIlL0"
      },
      "source": [
        "Crie a classe `ArquivoCSV`. Ela deve extender (herdar) a classe `ArquivoTexto` para reaproveitar os seus atributos (`self.arquivo` e `self.conteudo`). Além disso, adicione o seguinte atributo:\n",
        "\n",
        "*   `self.colunas`: Atributo do tipo `list` onde os elementos são os nome das colunas;\n",
        "\n",
        "A classe também deve conter o seguinte método:\n",
        "\n",
        "*   `self.extrair_nome_colunas`: Método que retorna o nome das colunas do arquivo.\n",
        "\n",
        "\n",
        "*   `extrair_coluna`: Método que recebe como parâmetro o indice da coluna e retorna o valor em questão."
      ]
    },
    {
      "cell_type": "markdown",
      "metadata": {
        "id": "0VcgWVvT4haD"
      },
      "source": [
        "Utilize o código abaixo para testar sua classe."
      ]
    },
    {
      "cell_type": "code",
      "source": [
        "arquivo_csv = ArquivoCSV(arquivo='./carros.csv')"
      ],
      "metadata": {
        "id": "WQM7D1B0V8FW"
      },
      "execution_count": 84,
      "outputs": []
    },
    {
      "cell_type": "code",
      "source": [
        "class ArquivoTexto:\n",
        "    def __init__(self, arquivo: str):\n",
        "        self.arquivo = arquivo\n",
        "        self.conteudo = self._extrair_conteudo()\n",
        "\n",
        "    def _extrair_conteudo(self):\n",
        "\n",
        "        pass\n",
        "\n",
        "class ArquivoCSV(ArquivoTexto):\n",
        "    def __init__(self, arquivo: str):\n",
        "        super().__init__(arquivo)\n",
        "        self.colunas = self._extrair_colunas()\n",
        "\n",
        "    def _extrair_colunas(self):\n",
        "        if self.conteudo:\n",
        "            return self.conteudo[0].strip().split(',')\n",
        "        else:\n",
        "            return []\n",
        "\n",
        "    def extrair_nome_colunas(self):\n",
        "        return self.colunas\n",
        "\n",
        "    def extrair_coluna(self, indice):\n",
        "        if 0 <= indice < len(self.colunas):\n",
        "            valores_coluna = []\n",
        "            for linha in self.conteudo[1:]:\n",
        "                valores_linha = linha.strip().split(',')\n",
        "                valores_coluna.append(valores_linha[indice])\n",
        "            return valores_coluna\n",
        "        else:\n",
        "            print(\"Índice da coluna fora do intervalo válido.\")"
      ],
      "metadata": {
        "id": "vEi4YPHKf9nS"
      },
      "execution_count": 85,
      "outputs": []
    },
    {
      "cell_type": "code",
      "source": [
        "arquivo_csv = ArquivoCSV(arquivo ='./carros.csv')\n",
        "print(arquivo_csv.colunas)\n",
        "\n"
      ],
      "metadata": {
        "colab": {
          "base_uri": "https://localhost:8080/"
        },
        "id": "-UMKa7QyQr4H",
        "outputId": "cc85167d-2548-4edf-bc08-5eb2a53d8692"
      },
      "execution_count": 135,
      "outputs": [
        {
          "output_type": "stream",
          "name": "stdout",
          "text": [
            "[]\n"
          ]
        }
      ]
    },
    {
      "cell_type": "code",
      "source": [
        "arquivo_csv = ArquivoCSV(arquivo='./carros.csv')\n",
        "print(arquivo_csv.extrair_linha(0, 10))"
      ],
      "metadata": {
        "colab": {
          "base_uri": "https://localhost:8080/",
          "height": 165
        },
        "id": "MmEskUDUaRo3",
        "outputId": "34192e63-a2d9-4306-c683-6b7879b00f44"
      },
      "execution_count": 138,
      "outputs": [
        {
          "output_type": "error",
          "ename": "AttributeError",
          "evalue": "'ArquivoCSV' object has no attribute 'extrair_linha'",
          "traceback": [
            "\u001b[0;31m---------------------------------------------------------------------------\u001b[0m",
            "\u001b[0;31mAttributeError\u001b[0m                            Traceback (most recent call last)",
            "\u001b[0;32m<ipython-input-138-3f5f957bbf82>\u001b[0m in \u001b[0;36m<cell line: 2>\u001b[0;34m()\u001b[0m\n\u001b[1;32m      1\u001b[0m \u001b[0marquivo_csv\u001b[0m \u001b[0;34m=\u001b[0m \u001b[0mArquivoCSV\u001b[0m\u001b[0;34m(\u001b[0m\u001b[0marquivo\u001b[0m\u001b[0;34m=\u001b[0m\u001b[0;34m'./carros.csv'\u001b[0m\u001b[0;34m)\u001b[0m\u001b[0;34m\u001b[0m\u001b[0;34m\u001b[0m\u001b[0m\n\u001b[0;32m----> 2\u001b[0;31m \u001b[0mprint\u001b[0m\u001b[0;34m(\u001b[0m\u001b[0marquivo_csv\u001b[0m\u001b[0;34m.\u001b[0m\u001b[0mextrair_linha\u001b[0m\u001b[0;34m(\u001b[0m\u001b[0;36m0\u001b[0m\u001b[0;34m,\u001b[0m \u001b[0;36m10\u001b[0m\u001b[0;34m)\u001b[0m\u001b[0;34m)\u001b[0m\u001b[0;34m\u001b[0m\u001b[0;34m\u001b[0m\u001b[0m\n\u001b[0m",
            "\u001b[0;31mAttributeError\u001b[0m: 'ArquivoCSV' object has no attribute 'extrair_linha'"
          ]
        }
      ]
    },
    {
      "cell_type": "code",
      "source": [
        "class ArquivoCSV:\n",
        "    def __init__(self, arquivo):\n",
        "        self.arquivo = arquivo\n",
        "        self.conteudo = self.ler_arquivo()\n",
        "\n",
        "    def ler_arquivo(self):\n",
        "        with open(self.arquivo, 'r') as file:\n",
        "            linhas = file.readlines()\n",
        "        return linhas\n",
        "\n",
        "    def extrair_linha(self, indice_linha: int):\n",
        "        if 0 <= indice_linha < len(self.conteudo):\n",
        "            return self.conteudo[indice_linha].strip().split(',')\n",
        "        else:\n",
        "            return None\n",
        "arquivo_csv = ArquivoCSV(arquivo='carros.csv')\n",
        "linha_1 = arquivo_csv.extrair_linha(indice_linha=0)\n",
        "print(linha_1)"
      ],
      "metadata": {
        "colab": {
          "base_uri": "https://localhost:8080/"
        },
        "id": "auD30dUBhR2o",
        "outputId": "2c7aaded-4fe9-4b60-e839-e01c6d8076df"
      },
      "execution_count": 94,
      "outputs": [
        {
          "output_type": "stream",
          "name": "stdout",
          "text": [
            "['id', 'valor_venda', 'valor_manutencao', 'portas', 'pessoas', 'porta_malas']\n"
          ]
        }
      ]
    },
    {
      "cell_type": "code",
      "source": [
        "class ArquivoCSV:\n",
        "    def __init__(self, arquivo):\n",
        "        self.arquivo = arquivo\n",
        "        self.conteudo = self.ler_arquivo()\n",
        "\n",
        "    def ler_arquivo(self):\n",
        "        with open(self.arquivo, 'r') as file:\n",
        "            linhas = file.readlines()\n",
        "        return linhas\n",
        "\n",
        "    def extrair_linha(self, indice_linha: int):\n",
        "        if 0 <= indice_linha < len(self.conteudo):\n",
        "            return self.conteudo[indice_linha].strip().split(',')\n",
        "        else:\n",
        "            return None\n",
        "arquivo_csv = ArquivoCSV(arquivo='carros.csv')\n",
        "linha_10 = arquivo_csv.extrair_linha(indice_linha=9)\n",
        "print(linha_10)"
      ],
      "metadata": {
        "colab": {
          "base_uri": "https://localhost:8080/"
        },
        "id": "SPGGJFBrWFJ2",
        "outputId": "d09270ad-9c1e-4cac-f975-78944f856e54"
      },
      "execution_count": 103,
      "outputs": [
        {
          "output_type": "stream",
          "name": "stdout",
          "text": [
            "['9', 'low', 'med', '2', '2', 'small']\n"
          ]
        }
      ]
    },
    {
      "cell_type": "code",
      "source": [
        "arquivo_csv = ArquivoCSV(arquivo='carros.csv')\n",
        "\n",
        "class ArquivoTexto:\n",
        "    def __init__(self, arquivo: str):\n",
        "        self.arquivo = arquivo\n",
        "        self.conteudo = self._extrair_conteudo()\n",
        "\n",
        "    def _extrair_conteudo(self):\n",
        "\n",
        "        pass\n",
        "\n",
        "class ArquivoCSV(ArquivoTexto):\n",
        "    def __init__(self, arquivo: str):\n",
        "        super().__init__(arquivo)\n",
        "        self.colunas = self._extrair_colunas()\n",
        "\n",
        "    def _extrair_colunas(self):\n",
        "        if self.conteudo:\n",
        "            return self.conteudo[0].strip().split(',')\n",
        "        else:\n",
        "            return []\n",
        "\n",
        "    def extrair_nome_colunas(self):\n",
        "        return self.colunas\n",
        "\n",
        "    def extrair_coluna(self, indice):\n",
        "        if 0 <= indice < len(self.colunas):\n",
        "            valores_coluna = []\n",
        "            for linha in self.conteudo[1:]:\n",
        "                valores_linha = linha.strip().split(',')\n",
        "                valores_coluna.append(valores_linha[indice])\n",
        "            return valores_coluna\n",
        "        else:\n",
        "            print(\"Índice da coluna fora do intervalo válido.\")\n",
        "\n",
        ""
      ],
      "metadata": {
        "id": "v-Z6L7WhXFEC"
      },
      "execution_count": 117,
      "outputs": []
    },
    {
      "cell_type": "code",
      "source": [
        "arquivo_csv = ArquivoCSV(arquivo='carros.csv')\n",
        "print(coluna_2)\n",
        "\n",
        "\n",
        "\n"
      ],
      "metadata": {
        "colab": {
          "base_uri": "https://localhost:8080/"
        },
        "id": "yk3Sp-51exGb",
        "outputId": "5ae22e99-b2c4-49e1-f9e4-19a1ac23685e"
      },
      "execution_count": 140,
      "outputs": [
        {
          "output_type": "stream",
          "name": "stdout",
          "text": [
            "['med', 'vhigh', 'vhigh', 'high', 'high', 'high', 'high', 'med', 'med', 'med', 'med', 'low', 'low', 'low']\n"
          ]
        }
      ]
    },
    {
      "cell_type": "code",
      "source": [
        "arquivo_csv = ArquivoCSV(arquivo='./carros.csv')\n",
        "class ArquivoTexto:\n",
        "    def __init__(self, arquivo: str):\n",
        "        self.arquivo = arquivo\n",
        "        self.conteudo = self._extrair_conteudo()\n",
        "\n",
        "    def _extrair_conteudo(self):\n",
        "\n",
        "        pass\n",
        "\n",
        "class ArquivoCSV(ArquivoTexto):\n",
        "    def __init__(self, arquivo: str):\n",
        "        super().__init__(arquivo)\n",
        "        self.colunas = self._extrair_colunas()\n",
        "\n",
        "    def _extrair_colunas(self):\n",
        "        if self.conteudo:\n",
        "            return self.conteudo[0].strip().split(',')\n",
        "        else:\n",
        "            return []\n",
        "\n",
        "    def extrair_nome_colunas(self):\n",
        "        return self.colunas\n",
        "\n",
        "    def extrair_coluna(self, indice):\n",
        "        if 0 <= indice < len(self.colunas):\n",
        "            valores_coluna = []\n",
        "            for linha in self.conteudo[1:]:\n",
        "                valores_linha = linha.strip().split(',')\n",
        "                valores_coluna.append(valores_linha[indice])\n",
        "            return valores_coluna\n",
        "        else:\n",
        "            print(\"Índice da coluna fora do intervalo válido.\")\n",
        "\n",
        ""
      ],
      "metadata": {
        "id": "36XtsJczYAS5"
      },
      "execution_count": 141,
      "outputs": []
    },
    {
      "cell_type": "code",
      "source": [
        "arquivo_csv = ArquivoCSV(arquivo='./carros.csv')\n",
        "class ArquivoTexto:\n",
        "    def __init__(self, arquivo: str):\n",
        "        self.arquivo = arquivo\n",
        "        self.conteudo = self._extrair_conteudo()\n",
        "\n",
        "    def _extrair_conteudo(self):\n",
        "\n",
        "        pass\n",
        "\n",
        "class ArquivoCSV(ArquivoTexto):\n",
        "    def __init__(self, arquivo: str):\n",
        "        super().__init__(arquivo)\n",
        "        self.colunas = self._extrair_colunas()\n",
        "\n",
        "    def _extrair_colunas(self):\n",
        "        if self.conteudo:\n",
        "            return self.conteudo[0].strip().split(',')\n",
        "        else:\n",
        "            return []\n",
        "\n",
        "    def extrair_nome_colunas(self):\n",
        "        return self.colunas\n",
        "\n",
        "    def extrair_coluna(self, indice):\n",
        "        if 0 <= indice < len(self.colunas):\n",
        "            valores_coluna = []\n",
        "            for linha in self.conteudo[1:]:\n",
        "                valores_linha = linha.strip().split(',')\n",
        "                valores_coluna.append(valores_linha[indice])\n",
        "            return valores_coluna\n",
        "        else:\n",
        "            print(\"Índice da coluna fora do intervalo válido.\")\n",
        "\n"
      ],
      "metadata": {
        "id": "JB1ich8n0PRn"
      },
      "execution_count": 122,
      "outputs": []
    },
    {
      "cell_type": "code",
      "source": [
        "coluna_2 = ['med', 'vhigh', 'vhigh', 'high', 'high', 'high', 'high', 'med', 'med', 'med', 'med', 'low', 'low', 'low']\n",
        "\n",
        "décimo_elemento =(coluna_2[10])\n",
        "print(décimo_elemento)\n"
      ],
      "metadata": {
        "colab": {
          "base_uri": "https://localhost:8080/"
        },
        "id": "p4RVC-CDjR5w",
        "outputId": "849eae1a-ac0b-4363-88eb-144e3ace1287"
      },
      "execution_count": 132,
      "outputs": [
        {
          "output_type": "stream",
          "name": "stdout",
          "text": [
            "med\n"
          ]
        }
      ]
    },
    {
      "cell_type": "code",
      "execution_count": null,
      "metadata": {
        "id": "GKSf1YbcIlL1",
        "colab": {
          "base_uri": "https://localhost:8080/",
          "height": 245
        },
        "outputId": "0a47c883-f079-45a0-da7d-ef4c4420157a"
      },
      "outputs": [
        {
          "output_type": "error",
          "ename": "AttributeError",
          "evalue": "'ArquivoCSV' object has no attribute 'extrair_linha'",
          "traceback": [
            "\u001b[0;31m---------------------------------------------------------------------------\u001b[0m",
            "\u001b[0;31mAttributeError\u001b[0m                            Traceback (most recent call last)",
            "\u001b[0;32m<ipython-input-117-00838816f789>\u001b[0m in \u001b[0;36m<cell line: 4>\u001b[0;34m()\u001b[0m\n\u001b[1;32m      2\u001b[0m \u001b[0;34m\u001b[0m\u001b[0m\n\u001b[1;32m      3\u001b[0m \u001b[0mnumero_linha\u001b[0m \u001b[0;34m=\u001b[0m \u001b[0;36m1\u001b[0m\u001b[0;34m\u001b[0m\u001b[0;34m\u001b[0m\u001b[0m\n\u001b[0;32m----> 4\u001b[0;31m \u001b[0mprint\u001b[0m\u001b[0;34m(\u001b[0m\u001b[0marquivo_csv\u001b[0m\u001b[0;34m.\u001b[0m\u001b[0mextrair_linha\u001b[0m\u001b[0;34m(\u001b[0m\u001b[0mnumero_linha\u001b[0m\u001b[0;34m=\u001b[0m\u001b[0mnumero_linha\u001b[0m\u001b[0;34m)\u001b[0m\u001b[0;34m)\u001b[0m \u001b[0;31m# id,valor_venda,valor_manutencao,portas,pessoas,porta_malas\u001b[0m\u001b[0;34m\u001b[0m\u001b[0;34m\u001b[0m\u001b[0m\n\u001b[0m\u001b[1;32m      5\u001b[0m \u001b[0;34m\u001b[0m\u001b[0m\n\u001b[1;32m      6\u001b[0m \u001b[0mprint\u001b[0m\u001b[0;34m(\u001b[0m\u001b[0marquivo_csv\u001b[0m\u001b[0;34m.\u001b[0m\u001b[0mcolunas\u001b[0m\u001b[0;34m)\u001b[0m \u001b[0;31m# ['id', 'valor_venda', 'valor_manutencao', 'portas', 'pessoas', 'porta_malas']\u001b[0m\u001b[0;34m\u001b[0m\u001b[0;34m\u001b[0m\u001b[0m\n",
            "\u001b[0;31mAttributeError\u001b[0m: 'ArquivoCSV' object has no attribute 'extrair_linha'"
          ]
        }
      ],
      "source": [
        "objeto= './carros.csv'\n",
        "\n",
        "numero_linha = 1 #ok\n",
        "print(arquivo_csv.extrair_linha(numero_linha=numero_linha)) # id,valor_venda,valor_manutencao,portas,pessoas,porta_malas\n",
        "\n",
        "# nao print(arquivo_csv.colunas) # ['id', 'valor_venda', 'valor_manutencao', 'portas', 'pessoas', 'porta_malas']\n",
        " # ['id', 'valor_venda', 'valor_manutencao', 'portas', 'pessoas', 'porta_malas']\n",
        "\n",
        "numero_linha = 10 #ok\n",
        "print(arquivo_csv.extrair_linha(numero_linha=numero_linha)) # 9,low,med,2,2,small\n",
        "\n",
        "indice_coluna = 2 #ok\n",
        "print(arquivo_csv.extrair_coluna(indice_coluna=indice_coluna)) # ['med', 'vhigh', 'vhigh', 'high', 'high', 'high', 'high', 'med', 'med', 'med', 'med', 'low', 'low', 'low']\n",
        "\n",
        "numero_linha = 10\n",
        "numero_coluna = 2\n",
        "print(arquivo_csv.extrair_coluna_da_linha(numero_linha=numero_linha, numero_coluna=numero_coluna)) # low"
      ]
    }
  ]
}